{
 "cells": [
  {
   "cell_type": "markdown",
   "id": "2704cafa",
   "metadata": {},
   "source": [
    "## Movie 3: Functional roles of NHE1 and/or SWELL1 in cell dissemination from 3D breast cancer spheroids embedded in 3D collagen gels "
   ]
  },
  {
   "cell_type": "code",
   "execution_count": 127,
   "id": "5b98a375",
   "metadata": {},
   "outputs": [],
   "source": [
    "%matplotlib inline\n",
    "from skimage import io\n",
    "from skimage.filters import threshold_otsu\n",
    "from skimage.filters.rank import entropy\n",
    "from skimage.morphology import disk\n",
    "from matplotlib import pyplot as plt\n",
    "import numpy as np\n",
    "import pandas as pd\n",
    "import cv2\n",
    "import os\n",
    "\n",
    "movie3_path = \"movies/movie3.avi\""
   ]
  },
  {
   "cell_type": "code",
   "execution_count": 129,
   "id": "e3ba9030-30f8-47ba-8d8a-c8a99c8bf7be",
   "metadata": {},
   "outputs": [],
   "source": [
    "# This cell was used to store each frame from the video to be used for calibrating and testing parameters\n",
    "# movie_path = \"movies/movie3.avi\"\n",
    "# output_path = \"movies/movie3\"\n",
    "# movie = cv2.VideoCapture(movie_path)\n",
    "# count = 0\n",
    "# while movie.isOpened():\n",
    "#    count += 1\n",
    "#    success, frame = movie.read()\n",
    "#    if not success:\n",
    "#        break\n",
    "#    cv2.imwrite(f'{output_path}/frame{count}.jpg', frame)\n",
    "\n",
    "#movie.release()\n",
    "#cv2.destroyAllWindows()\n"
   ]
  },
  {
   "cell_type": "markdown",
   "id": "97788a6e-b7b5-4b42-9930-bb95c139afc3",
   "metadata": {},
   "source": [
    "## Calibrate and estimate parameters for segments\n",
    "### Approach for measuring cell migration rate\n",
    "- Each grayed frame was segmented based on entropy - Amount of disorder\n",
    "- The mean pixel value of each entropy frame is used to represent the extent of cell migration\n",
    "- By subtracting the starting mean pixel, the change in entropy with respect to the starting position is obtained\n",
    "### Applying the algorithm,\n",
    "- For this movie, an inverted gray image of each frame was used because there were a lot of dark regions in the spheroid\n",
    "- Regions of each frame that were not relevant for the analysis were covered by drawing empty (black colored) rectangles over the inverted frames"
   ]
  },
  {
   "cell_type": "code",
   "execution_count": 132,
   "id": "10316bb7-f017-4859-80b6-c767aa0175af",
   "metadata": {},
   "outputs": [
    {
     "name": "stdout",
     "output_type": "stream",
     "text": [
      "SC Entropy: 4.378984635992757\n",
      "Dual KD Entropy: 4.799028250929498\n"
     ]
    },
    {
     "data": {
      "text/plain": [
       "(1024, 2560, 3)"
      ]
     },
     "execution_count": 132,
     "metadata": {},
     "output_type": "execute_result"
    }
   ],
   "source": [
    "img_raw = io.imread(\"movies/movie3/frame1.jpg\")\n",
    "\n",
    "sc_frame = img_raw[80:, :1250]\n",
    "sc_frame = cv2.cvtColor(sc_frame, cv2.COLOR_BGR2RGB)\n",
    "sc_frame_gray = cv2.cvtColor(sc_frame, cv2.COLOR_BGR2GRAY)\n",
    "sc_frame_gray_inverted = cv2.bitwise_not(sc_frame_gray)\n",
    "\n",
    "dual_kd_frame = img_raw[200:800, 1550:2300]\n",
    "dual_kd_frame = cv2.cvtColor(dual_kd_frame, cv2.COLOR_BGR2RGB)\n",
    "dual_kd_frame_gray = cv2.cvtColor(dual_kd_frame, cv2.COLOR_BGR2GRAY)\n",
    "dual_kd_frame_gray_inverted = cv2.bitwise_not(dual_kd_frame_gray)\n",
    "\n",
    "dual_kd_black_spot1 = dual_kd_frame_gray_inverted[0:200, 620:]\n",
    "\n",
    "sc_black_spot1 = sc_frame_gray_inverted[650:, 850:]\n",
    "sc_black_spot2 = sc_frame_gray_inverted[350:650, 1180:]\n",
    "sc_black_spot3 = sc_frame_gray_inverted[750:, 800:850]\n",
    "sc_black_spot4 = sc_frame_gray_inverted[500:650, 1100:1180]\n",
    "\n",
    "sc_black_spot1_replacement = np.ones((sc_black_spot1.shape), np.uint8)\n",
    "sc_black_spot2_replacement = np.ones((sc_black_spot2.shape), np.uint8)\n",
    "sc_black_spot3_replacement = np.ones((sc_black_spot3.shape), np.uint8)\n",
    "sc_black_spot4_replacement = np.ones((sc_black_spot4.shape), np.uint8)\n",
    "\n",
    "dual_kd_black_spot1_replacement = np.ones((dual_kd_black_spot1.shape), np.uint8)\n",
    "\n",
    "sc_frame_gray_inverted[650:, 850:] = sc_black_spot1_replacement\n",
    "sc_frame_gray_inverted[350:650, 1180:] = sc_black_spot2_replacement\n",
    "sc_frame_gray_inverted[750:, 800:850] = sc_black_spot3_replacement\n",
    "sc_frame_gray_inverted[500:650, 1100:1180] = sc_black_spot4_replacement\n",
    "\n",
    "dual_kd_frame_gray_inverted[0:200, 620:] = dual_kd_black_spot1_replacement\n",
    "\n",
    "sc_entropy_frame = entropy(sc_frame_gray_inverted, disk(5))\n",
    "dual_kd_entropy_frame = entropy(dual_kd_frame_gray_inverted, disk(5))\n",
    "\n",
    "print(\"SC Entropy:\", cv2.mean(sc_entropy_frame)[0])\n",
    "print(\"Dual KD Entropy:\", cv2.mean(dual_kd_entropy_frame)[0])\n",
    "img_raw.shape"
   ]
  },
  {
   "cell_type": "markdown",
   "id": "c1b87f35-fc07-447b-b0ad-80cb4e177fbe",
   "metadata": {},
   "source": [
    "## Mean pixels of entropy frames as measure of cell migration rate\n",
    "- The mean pixel values obtained with 'cv2.mean()' are used as entropy values\n",
    "- Each value in each frame is appended to the 'entropies' list which will be converted to a Pandas dataframe for analysis\n",
    "- The time interval between each frame is 20 minutes.\n",
    "#### May be a little slow"
   ]
  },
  {
   "cell_type": "code",
   "execution_count": 135,
   "id": "18a1fcf6",
   "metadata": {},
   "outputs": [
    {
     "name": "stdout",
     "output_type": "stream",
     "text": [
      "Press 'q' to end video\n",
      "4.378435835601718 4.798004641978683\n",
      "4.379228028854046 4.792591404128509\n",
      "4.380603490571506 4.803930805693747\n",
      "4.38372542488228 4.802567663203973\n",
      "4.383172473360572 4.806989845517965\n",
      "4.376503159089333 4.779133405309061\n",
      "4.379695729845625 4.800063292219728\n",
      "4.386990480773129 4.804781294399933\n",
      "4.38960774408457 4.804465174206351\n",
      "4.394069401861829 4.812614328065954\n",
      "4.390569077974212 4.806582232759234\n",
      "4.395492980959198 4.806453142865527\n",
      "4.396612973507684 4.809930210990068\n",
      "4.401478624715248 4.805252886106651\n",
      "4.40034142168175 4.815902471416009\n",
      "4.39704535514216 4.8188831446129345\n",
      "4.404717693205269 4.8207557233925105\n",
      "4.406459627848046 4.807943353106538\n",
      "4.406744665602844 4.81401580278595\n",
      "4.40643539834784 4.8159337763424395\n",
      "4.408680414118199 4.811927805076283\n",
      "4.4128082428059034 4.818063419937106\n",
      "4.416937744513822 4.821764244471333\n",
      "4.420772017398038 4.832734300672538\n",
      "4.424981834987658 4.826844776045982\n",
      "4.422940800152469 4.804820363848015\n",
      "4.42775548887818 4.839537833746164\n",
      "4.429156858590457 4.844874639238675\n",
      "4.430010076338055 4.838261199721598\n",
      "4.432074003156158 4.837330414885384\n",
      "4.436410719599015 4.8354851538892385\n",
      "4.4391043655245275 4.836154360065663\n",
      "4.43965207514658 4.83536510578032\n",
      "4.4460408324382525 4.837262195481006\n",
      "4.44284500481277 4.84066554594905\n",
      "4.445254820380222 4.838447721567837\n",
      "4.445864920365197 4.8462854615922275\n",
      "4.448108764975273 4.840975647394848\n",
      "4.450873525285873 4.847208182839312\n",
      "4.453398937750579 4.849696076802832\n",
      "4.455020903739406 4.844678009350074\n",
      "4.454748223519368 4.843251234464896\n",
      "4.456227520207151 4.839554523000838\n",
      "4.459351760378157 4.851991620290495\n",
      "4.462788622911682 4.839450898598052\n",
      "4.465059191566808 4.847306491351579\n",
      "4.467715828219678 4.849469553333145\n",
      "4.465837548826705 4.852920789228924\n",
      "4.469899749384666 4.858782872063804\n",
      "4.467163496984758 4.849688394595433\n",
      "4.4748784921573 4.858441610769097\n",
      "4.474363622280731 4.865784415167673\n",
      "4.477303552767986 4.859114097968351\n",
      "4.479851464100159 4.860006770930415\n",
      "4.484892349288886 4.874770133849516\n",
      "4.486363665655112 4.8760084604146865\n",
      "4.484673592911526 4.873397246831184\n",
      "4.483308821791258 4.878136389857575\n",
      "4.486953371062131 4.865922895444063\n",
      "4.4921833338380655 4.877039445640031\n",
      "4.492452316893935 4.882211654037874\n",
      "4.49401489925816 4.8729086762507325\n",
      "4.4945760615483294 4.882046102375369\n",
      "4.499000345971978 4.887678389328761\n",
      "4.500427118653713 4.880337917564491\n",
      "4.508186427006911 4.886357109897148\n",
      "4.506923873872494 4.891061578489801\n",
      "4.506222147464317 4.890918198548977\n",
      "4.508179865037046 4.885864093942288\n",
      "4.510177175767557 4.878971017686696\n",
      "4.506688466877236 4.865836392880479\n",
      "4.511877307907378 4.887706227854159\n",
      "4.510723548149504 4.886478715482135\n",
      "Video saved in movies/out3\n"
     ]
    }
   ],
   "source": [
    "print(\"Press 'q' to end video\")\n",
    "cap = cv2.VideoCapture(movie3_path)\n",
    "\n",
    "\n",
    "# Get movie frame size\n",
    "width = 640\n",
    "height = 480\n",
    "frame_size = (width,height)\n",
    "\n",
    "output_frames = \"movies/out3\"\n",
    "\n",
    "frame_index = 0 # Track frame number for fluorescent intensity table\n",
    "\n",
    "entropies = []\n",
    "\n",
    "while True:\n",
    "    frame_index += 1\n",
    "    success, frame = cap.read()\n",
    "\n",
    "    if success and frame.size != 0:\n",
    "        # Isolate regions of interest\n",
    "        sc_frame = frame[80:, :1250]\n",
    "        sc_frame = cv2.cvtColor(sc_frame, cv2.COLOR_BGR2RGB)\n",
    "        sc_frame_gray = cv2.cvtColor(sc_frame, cv2.COLOR_BGR2GRAY)\n",
    "        sc_frame_gray_inverted = cv2.bitwise_not(sc_frame_gray)\n",
    "\n",
    "        dual_kd_frame = frame[200:800, 1550:2300]\n",
    "        dual_kd_frame = cv2.cvtColor(dual_kd_frame, cv2.COLOR_BGR2RGB)\n",
    "        dual_kd_frame_gray = cv2.cvtColor(dual_kd_frame, cv2.COLOR_BGR2GRAY)\n",
    "        dual_kd_frame_gray_inverted = cv2.bitwise_not(dual_kd_frame_gray)\n",
    "\n",
    "        dual_kd_black_spot1 = dual_kd_frame_gray_inverted[0:200, 620:]\n",
    "\n",
    "        sc_black_spot1 = sc_frame_gray_inverted[650:, 850:]\n",
    "        sc_black_spot2 = sc_frame_gray_inverted[350:650, 1180:]\n",
    "        sc_black_spot3 = sc_frame_gray_inverted[750:, 800:850]\n",
    "        sc_black_spot4 = sc_frame_gray_inverted[500:650, 1100:1180]\n",
    "\n",
    "        sc_black_spot1_replacement = np.ones((sc_black_spot1.shape), np.uint8)\n",
    "        sc_black_spot2_replacement = np.ones((sc_black_spot2.shape), np.uint8)\n",
    "        sc_black_spot3_replacement = np.ones((sc_black_spot3.shape), np.uint8)\n",
    "        sc_black_spot4_replacement = np.ones((sc_black_spot4.shape), np.uint8)\n",
    "\n",
    "        dual_kd_black_spot1_replacement = np.ones((dual_kd_black_spot1.shape), np.uint8)\n",
    "\n",
    "        sc_frame_gray_inverted[650:, 850:] = sc_black_spot1_replacement\n",
    "        sc_frame_gray_inverted[350:650, 1180:] = sc_black_spot2_replacement\n",
    "        sc_frame_gray_inverted[750:, 800:850] = sc_black_spot3_replacement\n",
    "        sc_frame_gray_inverted[500:650, 1100:1180] = sc_black_spot4_replacement\n",
    "\n",
    "        dual_kd_frame_gray_inverted[0:200, 620:] = dual_kd_black_spot1_replacement\n",
    "\n",
    "        sc_entropy_frame = entropy(sc_frame_gray_inverted, disk(5))\n",
    "        dual_kd_entropy_frame = entropy(dual_kd_frame_gray_inverted, disk(5))\n",
    "\n",
    "        sc_entropy = cv2.mean(sc_entropy_frame)[0]\n",
    "        dual_kd_entropy = cv2.mean(dual_kd_entropy_frame)[0]\n",
    "\n",
    "        print(sc_entropy, dual_kd_entropy)\n",
    "\n",
    "        # Append entropy data\n",
    "        entropies.append([frame_index, sc_entropy, dual_kd_entropy, (frame_index*20)-20])\n",
    "\n",
    "        # Add regions to blank canvas\n",
    "        frame_gray = cv2.cvtColor(frame, cv2.COLOR_BGR2RGB)\n",
    "        frame_gray = cv2.cvtColor(frame_gray, cv2.COLOR_BGR2GRAY)\n",
    "        canvas = np.ones((frame_gray.shape), np.uint8)\n",
    "        canvas[80:, :1250] = sc_frame_gray_inverted\n",
    "        canvas[200:800, 1550:2300] = dual_kd_frame_gray_inverted\n",
    "\n",
    "        # Resize frame\n",
    "        sc = cv2.resize(sc_frame_gray_inverted, frame_size)\n",
    "        dual_kd = cv2.resize(dual_kd_frame_gray_inverted, frame_size)\n",
    "\n",
    "        sc_dual_kd_stack = np.hstack((sc, dual_kd))\n",
    "\n",
    "        cv2.imwrite(f'{output_frames}/frame{frame_index}.jpg', sc_dual_kd_stack, [cv2.IMWRITE_JPEG_QUALITY, 90])\n",
    "\n",
    "        cv2.imshow(\"Movie 3\", sc_dual_kd_stack)\n",
    "\n",
    "    else:\n",
    "        break\n",
    "\n",
    "    # 1 frame per second\n",
    "    if cv2.waitKey(1) & 0xFF == ord('q'):\n",
    "        break\n",
    "\n",
    "# Save video\n",
    "video_frames = os.listdir(output_frames)\n",
    "video_frame = cv2.imread(os.path.join(output_frames, video_frames[0]))\n",
    "height, width, layers = video_frame.shape\n",
    "\n",
    "video = cv2.VideoWriter('output3.avi', 0, 1, (width, height))\n",
    "for f in video_frames:\n",
    "    video.write(cv2.imread(os.path.join(output_frames, f)))\n",
    "\n",
    "video.release()\n",
    "cap.release()\n",
    "cv2.destroyAllWindows()\n",
    "print(\"Video saved in movies/out3\")"
   ]
  },
  {
   "cell_type": "markdown",
   "id": "b7a4d061",
   "metadata": {},
   "source": [
    "## Calculate change in entropy\n",
    "- SC: Scramble Control\n",
    "- DUAL_KD: Dual NHE1/SWELL1 Knockdown"
   ]
  },
  {
   "cell_type": "code",
   "execution_count": 139,
   "id": "ac1c65ec",
   "metadata": {},
   "outputs": [
    {
     "data": {
      "text/html": [
       "<div>\n",
       "<style scoped>\n",
       "    .dataframe tbody tr th:only-of-type {\n",
       "        vertical-align: middle;\n",
       "    }\n",
       "\n",
       "    .dataframe tbody tr th {\n",
       "        vertical-align: top;\n",
       "    }\n",
       "\n",
       "    .dataframe thead th {\n",
       "        text-align: right;\n",
       "    }\n",
       "</style>\n",
       "<table border=\"1\" class=\"dataframe\">\n",
       "  <thead>\n",
       "    <tr style=\"text-align: right;\">\n",
       "      <th></th>\n",
       "      <th>Frame</th>\n",
       "      <th>SC</th>\n",
       "      <th>DUAL_KD</th>\n",
       "      <th>Time</th>\n",
       "      <th>SC_ENTROPY_CHANGE</th>\n",
       "      <th>DUAL_KD_ENTROPY_CHANGE</th>\n",
       "    </tr>\n",
       "  </thead>\n",
       "  <tbody>\n",
       "    <tr>\n",
       "      <th>count</th>\n",
       "      <td>73.000000</td>\n",
       "      <td>73.000000</td>\n",
       "      <td>73.000000</td>\n",
       "      <td>73.000000</td>\n",
       "      <td>73.000000</td>\n",
       "      <td>73.000000</td>\n",
       "    </tr>\n",
       "    <tr>\n",
       "      <th>mean</th>\n",
       "      <td>37.000000</td>\n",
       "      <td>4.445337</td>\n",
       "      <td>4.841844</td>\n",
       "      <td>720.000000</td>\n",
       "      <td>0.066902</td>\n",
       "      <td>0.043839</td>\n",
       "    </tr>\n",
       "    <tr>\n",
       "      <th>std</th>\n",
       "      <td>21.217131</td>\n",
       "      <td>0.042071</td>\n",
       "      <td>0.029327</td>\n",
       "      <td>424.342629</td>\n",
       "      <td>0.042071</td>\n",
       "      <td>0.029327</td>\n",
       "    </tr>\n",
       "    <tr>\n",
       "      <th>min</th>\n",
       "      <td>1.000000</td>\n",
       "      <td>4.376503</td>\n",
       "      <td>4.779133</td>\n",
       "      <td>0.000000</td>\n",
       "      <td>-0.001933</td>\n",
       "      <td>-0.018871</td>\n",
       "    </tr>\n",
       "    <tr>\n",
       "      <th>25%</th>\n",
       "      <td>19.000000</td>\n",
       "      <td>4.406460</td>\n",
       "      <td>4.815902</td>\n",
       "      <td>360.000000</td>\n",
       "      <td>0.028024</td>\n",
       "      <td>0.017898</td>\n",
       "    </tr>\n",
       "    <tr>\n",
       "      <th>50%</th>\n",
       "      <td>37.000000</td>\n",
       "      <td>4.446041</td>\n",
       "      <td>4.840666</td>\n",
       "      <td>720.000000</td>\n",
       "      <td>0.067605</td>\n",
       "      <td>0.042661</td>\n",
       "    </tr>\n",
       "    <tr>\n",
       "      <th>75%</th>\n",
       "      <td>55.000000</td>\n",
       "      <td>4.483309</td>\n",
       "      <td>4.865836</td>\n",
       "      <td>1080.000000</td>\n",
       "      <td>0.104873</td>\n",
       "      <td>0.067832</td>\n",
       "    </tr>\n",
       "    <tr>\n",
       "      <th>max</th>\n",
       "      <td>73.000000</td>\n",
       "      <td>4.511877</td>\n",
       "      <td>4.891062</td>\n",
       "      <td>1440.000000</td>\n",
       "      <td>0.133441</td>\n",
       "      <td>0.093057</td>\n",
       "    </tr>\n",
       "  </tbody>\n",
       "</table>\n",
       "</div>"
      ],
      "text/plain": [
       "           Frame         SC    DUAL_KD         Time  SC_ENTROPY_CHANGE  \\\n",
       "count  73.000000  73.000000  73.000000    73.000000          73.000000   \n",
       "mean   37.000000   4.445337   4.841844   720.000000           0.066902   \n",
       "std    21.217131   0.042071   0.029327   424.342629           0.042071   \n",
       "min     1.000000   4.376503   4.779133     0.000000          -0.001933   \n",
       "25%    19.000000   4.406460   4.815902   360.000000           0.028024   \n",
       "50%    37.000000   4.446041   4.840666   720.000000           0.067605   \n",
       "75%    55.000000   4.483309   4.865836  1080.000000           0.104873   \n",
       "max    73.000000   4.511877   4.891062  1440.000000           0.133441   \n",
       "\n",
       "       DUAL_KD_ENTROPY_CHANGE  \n",
       "count               73.000000  \n",
       "mean                 0.043839  \n",
       "std                  0.029327  \n",
       "min                 -0.018871  \n",
       "25%                  0.017898  \n",
       "50%                  0.042661  \n",
       "75%                  0.067832  \n",
       "max                  0.093057  "
      ]
     },
     "execution_count": 139,
     "metadata": {},
     "output_type": "execute_result"
    }
   ],
   "source": [
    "entropies_dataframe = pd.DataFrame(entropies, columns =  [\"Frame\", \"SC\", \"DUAL_KD\",\"Time\"])\n",
    "entropies_dataframe[\"SC_ENTROPY_CHANGE\"] = entropies_dataframe[\"SC\"] - entropies_dataframe[\"SC\"][0]\n",
    "entropies_dataframe[\"DUAL_KD_ENTROPY_CHANGE\"] = entropies_dataframe[\"DUAL_KD\"] - entropies_dataframe[\"DUAL_KD\"][0]\n",
    "\n",
    "entropies_dataframe.describe()"
   ]
  },
  {
   "cell_type": "markdown",
   "id": "e4622dc8",
   "metadata": {},
   "source": [
    "## Compare Entropy change in SC cells and Dual KD cells"
   ]
  },
  {
   "cell_type": "code",
   "execution_count": 142,
   "id": "cbc114db",
   "metadata": {
    "scrolled": true
   },
   "outputs": [
    {
     "data": {
      "image/png": "[encoded data removed]",
      "text/plain": [
       "<Figure size 800x500 with 1 Axes>"
      ]
     },
     "metadata": {},
     "output_type": "display_data"
    }
   ],
   "source": [
    "plt.figure(figsize=(8,5))\n",
    "plt.plot(entropies_dataframe.Time, entropies_dataframe.SC_ENTROPY_CHANGE, label=\"Scramble control\")\n",
    "plt.plot(entropies_dataframe.Time, entropies_dataframe.DUAL_KD_ENTROPY_CHANGE, label=\"Dual NHE1/SWELL1 Knockdown\")\n",
    "\n",
    "plt.title(\"Change in entropy againt time\")\n",
    "plt.ylabel(\"Change in entropy\")\n",
    "plt.xlabel(\"Time in minutes\")\n",
    "plt.legend()\n",
    "plt.xticks(entropies_dataframe.Time)\n",
    "plt.show()"
   ]
  },
  {
   "cell_type": "markdown",
   "id": "281e03d2-55fb-4c92-9790-2b719b54abb9",
   "metadata": {},
   "source": [
    "- SC cells migrate faster over time\n",
    "- Dual NHE1/SWELL1 knockdown cells show minimal migration"
   ]
  },
  {
   "cell_type": "markdown",
   "id": "fa985c1f-e408-47f5-91fd-f9e0bda95a84",
   "metadata": {},
   "source": [
    "### Slope from fitted regression models"
   ]
  },
  {
   "cell_type": "markdown",
   "id": "b240613e-0cdb-4db3-9b8e-faafb60d9d77",
   "metadata": {},
   "source": [
    "#### Regression model for Entropy change in SC cells"
   ]
  },
  {
   "cell_type": "code",
   "execution_count": 147,
   "id": "c7d84188-ae3a-4bf8-bbe7-6ff1e082092f",
   "metadata": {},
   "outputs": [
    {
     "name": "stdout",
     "output_type": "stream",
     "text": [
      "{'slope': 0.0019782343207210198, 'intercept': -0.006293030110502959, 'r': 0.9976574332990302, 'p': 1.8549540495197714e-84, 'std_err': 1.609806237344797e-05}\n"
     ]
    }
   ],
   "source": [
    "from scipy import stats\n",
    "slope, intercept, r, p, std_err = stats.linregress(entropies_dataframe.Frame, entropies_dataframe.SC_ENTROPY_CHANGE)\n",
    "print({\"slope\":slope, \"intercept\":intercept, \"r\":r, \"p\":p, \"std_err\":std_err})"
   ]
  },
  {
   "cell_type": "markdown",
   "id": "9039803c-a591-4012-9465-d6d4d3c79707",
   "metadata": {},
   "source": [
    "### Regression model for Entropy change in Dual Knockdown cells"
   ]
  },
  {
   "cell_type": "code",
   "execution_count": 150,
   "id": "85bcfe6b-5495-4391-8389-3c8e06825384",
   "metadata": {},
   "outputs": [
    {
     "name": "stdout",
     "output_type": "stream",
     "text": [
      "{'slope': 0.0013396184567012852, 'intercept': -0.005726812882166178, 'r': 0.9691786112114945, 'p': 6.156997267175579e-45, 'std_err': 4.0412599211976294e-05}\n"
     ]
    }
   ],
   "source": [
    "slope, intercept, r, p, std_err = stats.linregress(entropies_dataframe.Frame, entropies_dataframe.DUAL_KD_ENTROPY_CHANGE)\n",
    "print({\"slope\":slope, \"intercept\":intercept, \"r\":r, \"p\":p, \"std_err\":std_err})"
   ]
  },
  {
   "cell_type": "markdown",
   "id": "7af9f59a-ca94-4465-8c65-a41516262f31",
   "metadata": {},
   "source": [
    "- The slope of the regression model for entropy change in SC cells is greater (0.00198) than that for Dual KD cells (0.00134)\n",
    "- Therefore cell migration is faster in SC cells than in Dual KD cells"
   ]
  },
  {
   "cell_type": "code",
   "execution_count": null,
   "id": "04c0f81b-19d7-420b-bb70-acb6bc864153",
   "metadata": {},
   "outputs": [],
   "source": []
  }
 ],
 "metadata": {
  "kernelspec": {
   "display_name": "Python 3 (ipykernel)",
   "language": "python",
   "name": "python3"
  },
  "language_info": {
   "codemirror_mode": {
    "name": "ipython",
    "version": 3
   },
   "file_extension": ".py",
   "mimetype": "text/x-python",
   "name": "python",
   "nbconvert_exporter": "python",
   "pygments_lexer": "ipython3",
   "version": "3.12.4"
  }
 },
 "nbformat": 4,
 "nbformat_minor": 5
}
