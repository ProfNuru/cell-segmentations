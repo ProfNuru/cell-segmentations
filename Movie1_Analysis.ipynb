{
 "cells": [
  {
   "cell_type": "markdown",
   "id": "2704cafa",
   "metadata": {},
   "source": [
    "# Movie 1 - SWELL1 Distribution in migrating cell\n",
    "## Load movie frames and perform segmentations"
   ]
  },
  {
   "cell_type": "code",
   "execution_count": 4,
   "id": "5b98a375",
   "metadata": {},
   "outputs": [],
   "source": [
    "%matplotlib inline\n",
    "from matplotlib import pyplot as plt\n",
    "import numpy as np\n",
    "import pandas as pd\n",
    "import cv2\n",
    "import seaborn as sns\n",
    "\n",
    "movie1_path = \"movies/movie1.avi\""
   ]
  },
  {
   "cell_type": "code",
   "execution_count": 5,
   "id": "19c2e48e",
   "metadata": {},
   "outputs": [],
   "source": [
    "# Find contours and get the largest contour to represent the entire structure\n",
    "# Get bounding rectangle of leftmost and rightmost sides\n",
    "def get_bounding_boxes(img):\n",
    "    contours, hierarchy = cv2.findContours(img, 1, 2)\n",
    "    c = max(contours, key=cv2.contourArea)\n",
    "    \n",
    "    leftBoundingRect = cv2.boundingRect(c[c[:, :, 0].argmin()])\n",
    "    rightBoundingRect = cv2.boundingRect(c[c[:, :, 0].argmax()])\n",
    "\n",
    "    return leftBoundingRect, rightBoundingRect, c\n",
    "\n",
    "def check_sections(frame, check_size=10, min_mean_pixel=0.03):\n",
    "    sections = []\n",
    "    for c in range(0, frame.shape[1], check_size):\n",
    "        mean_pixel = cv2.mean(frame[:,c:c+check_size])[0]\n",
    "        #print(\"Current mean pixel:\", mean_pixel)\n",
    "        sections.append((mean_pixel, c, check_size))\n",
    "    return sections\n",
    "\n",
    "def get_left_side(frame, check_size=10, min_mean_pixel=0.03):\n",
    "    for c in range(0, frame.shape[1], check_size):\n",
    "        mean_pixel = cv2.mean(frame[:,c:c+check_size])[0]\n",
    "        if mean_pixel > min_mean_pixel:\n",
    "            return c\n",
    "    return 0\n",
    "\n",
    "def get_right_side(frame, check_size=10, min_mean_pixel=0.03):\n",
    "    for c in range(frame.shape[1], 0, -(check_size)):\n",
    "        mean_pixel = cv2.mean(frame[:,c-check_size:c])[0]\n",
    "        if mean_pixel > min_mean_pixel:\n",
    "            return c\n",
    "    return 0\n",
    "\n",
    "\n",
    "def get_segment_gaps(right_segments, edge=0, side='left', fill_size=2, space_from_edge=0):\n",
    "    gaps = []\n",
    "    for i in range(1,len(right_segments)):\n",
    "        px, py, pw, ph = right_segments[i-1]\n",
    "        nx, ny, nw, nh = right_segments[i]\n",
    "        \n",
    "        gx = edge+space_from_edge if side=='left' else edge-fill_size-space_from_edge\n",
    "        gy = (py+ph)-1 if py+ph<=ny else (ny+nh)-1\n",
    "        gw = fill_size\n",
    "        gh = ny-(py+ph)+2 if py+ph<=ny else py-(ny+nh) +2\n",
    "\n",
    "        print(\"Gap:\", (gx, gy, gw, gh))\n",
    "        gaps.append((gx, gy, gw, gh))\n",
    "    return gaps\n",
    "\n",
    "\n",
    "def remove_non_edge_segments(img, non_edge_thresh=105):\n",
    "    remove_thresh = cv2.threshold(img, non_edge_thresh, 255, cv2.THRESH_BINARY)[1]\n",
    "    diff_img = cv2.subtract(img, remove_thresh)\n",
    "\n",
    "    return diff_img\n",
    "\n",
    "\n",
    "def get_mean_intensity(section):\n",
    "    count = np.nonzero(section)[0].size\n",
    "    mean = np.sum(section) / count\n",
    "    #print(count, mean)\n",
    "    return count, mean\n",
    "\n",
    "outliers = []"
   ]
  },
  {
   "cell_type": "markdown",
   "id": "54c2527b-eaf1-4c06-8eef-c00d6b9224a7",
   "metadata": {},
   "source": [
    "## Calibrate and estimate parameters for segments\n",
    "\n",
    "### Algorithm to find left and right edges\n",
    "- Break the grayed frame into a contibuous sequence of rectangles of width 'check_size'.\n",
    "- Calculate mean pixel values of each rectangle\n",
    "- Return the first rectangle whose mean pixel value exceeds the threshold value 'min_mean_pixel'\n",
    "\n",
    "### Applying the algorithm\n",
    "- The appropriate width of each edge is set to 40 for this movie.\n",
    "- Some correction values may also be used to include all pixels at edges"
   ]
  },
  {
   "cell_type": "code",
   "execution_count": 9,
   "id": "7e6ecb7c-a4ed-4e94-b725-3c6f24599bcc",
   "metadata": {},
   "outputs": [
    {
     "name": "stdout",
     "output_type": "stream",
     "text": [
      "Press 'q' to end video\n"
     ]
    }
   ],
   "source": [
    "print(\"Press 'q' to end video\")\n",
    "\n",
    "cap = cv2.VideoCapture(movie1_path)\n",
    "\n",
    "# Get movie frame size\n",
    "width = int(cap.get(cv2.CAP_PROP_FRAME_WIDTH) + 0.5)\n",
    "height = int(cap.get(cv2.CAP_PROP_FRAME_HEIGHT) + 0.5)\n",
    "frame_size = (width,height)\n",
    "\n",
    "# Initialize video writer to save segmented movie at 1 frame per second\n",
    "writer = cv2.VideoWriter(\"movie1_segments.avi\", cv2.VideoWriter_fourcc(*\"XVID\"), 1.0, frame_size)\n",
    "\n",
    "frame_index = 0\n",
    "\n",
    "data = []\n",
    "\n",
    "while True:\n",
    "    frame_index += 1\n",
    "    success, frame = cap.read()\n",
    "\n",
    "    if success and frame.size != 0:\n",
    "        # Crop frame to remove text\n",
    "        canvas = np.ones((frame.shape), np.uint8)\n",
    "        canvas[35:90, :] = frame[35:90, :]\n",
    "        isolated_cell = frame[35:90, :]\n",
    "        canvas = cv2.cvtColor(canvas, cv2.COLOR_BGR2RGB)\n",
    "        \n",
    "        # Blur to fill threshold gaps\n",
    "        gray_frame = cv2.cvtColor(canvas, cv2.COLOR_BGR2GRAY)\n",
    "        _, imgThreshold = cv2.threshold(gray_frame, 14, 255, cv2.THRESH_BINARY + cv2.THRESH_OTSU)\n",
    "        _, imgThresh = cv2.threshold(gray_frame, 8, 255, cv2.THRESH_BINARY)\n",
    "        blur_frame = cv2.GaussianBlur(imgThreshold, (7, 7), 0)\n",
    "\n",
    "        contours, hierarchy = cv2.findContours(imgThresh, 1, 2)\n",
    "        contour = max(contours, key=cv2.contourArea)\n",
    "        c_x,c_y,c_w,c_h = cv2.boundingRect(contour)\n",
    "        left_end = c_x\n",
    "        right_end = c_x+c_w\n",
    "\n",
    "        edge_width = 30\n",
    "\n",
    "        left_min_threshold = 11\n",
    "        right_min_threshold = 11\n",
    "\n",
    "        edge_blur_value_x = 3\n",
    "        edge_blur_value_y = 3\n",
    "\n",
    "        # Remove non-edge segments\n",
    "        #right_section_non_edge_removed = remove_non_edge_segments(imgThreshold[:, c_x+c_w-edge_width:c_x+c_w], 120)\n",
    "\n",
    "        left_section = remove_non_edge_segments(gray_frame[:, c_x:c_x+edge_width], 120)\n",
    "        left_blur = cv2.blur(left_section, (edge_blur_value_x, edge_blur_value_y))\n",
    "        _, left_thresh = cv2.threshold(left_blur, left_min_threshold, 255, cv2.THRESH_BINARY)\n",
    "\n",
    "        right_section = remove_non_edge_segments(gray_frame[:, c_x+c_w-edge_width:c_x+c_w], 40)\n",
    "        right_blur = cv2.blur(right_section, (edge_blur_value_x, edge_blur_value_y))\n",
    "        _, right_thresh = cv2.threshold(right_blur, right_min_threshold, 255, cv2.THRESH_BINARY)\n",
    "\n",
    "        imgThreshold[:, c_x:c_x+edge_width] = left_thresh\n",
    "        imgThreshold[:, c_x+c_w-edge_width:c_x+c_w] = right_thresh\n",
    "\n",
    "        # noise removal\n",
    "        kernel = cv2.getStructuringElement(cv2.MORPH_RECT, (1, 1))\n",
    "        bin_img = cv2.morphologyEx(imgThreshold, \n",
    "                                   cv2.MORPH_OPEN,\n",
    "                                   kernel,\n",
    "                                   iterations=2)\n",
    "\n",
    "        sure_bg = cv2.dilate(bin_img, kernel, iterations=3)\n",
    "\n",
    "        dist = cv2.distanceTransform(bin_img, cv2.DIST_L2, 0)\n",
    "\n",
    "        ret, sure_fg = cv2.threshold(dist, 0.21 * dist.max(), 255, cv2.THRESH_BINARY)\n",
    "        sure_fg = sure_fg.astype(np.uint8)\n",
    "\n",
    "        unknown = cv2.subtract(sure_bg, sure_fg)\n",
    "\n",
    "        # Marker labelling\n",
    "        ret, markers = cv2.connectedComponents(sure_fg)\n",
    "\n",
    "        # Add one to all labels so that background is not 0, but 1\n",
    "        markers += 1\n",
    "        # mark the region of unknown with zero\n",
    "        markers[unknown == 255] = 0\n",
    "\n",
    "        # create watershed markers\n",
    "        markers = cv2.watershed(canvas, markers)\n",
    "\n",
    "        labels = np.unique(markers)\n",
    "        right_segments = []\n",
    "\n",
    "        for label in labels[2:]:\n",
    "            # Create a binary image in which only the area of the label is in the foreground \n",
    "            #and the rest of the image is in the background   \n",
    "            target = np.where(markers == label, 255, 0).astype(np.uint8)\n",
    "            x, y, w, h = cv2.boundingRect(target)\n",
    "\n",
    "            min_segment_to_edge_distance = 10\n",
    "\n",
    "            color = (255, 255, 255)\n",
    "            if x-left_end <= min_segment_to_edge_distance:\n",
    "                count, mean = get_mean_intensity(canvas[markers == label])\n",
    "                data.append([frame_index, \"L\", count, mean])\n",
    "\n",
    "                canvas[markers == label] = [255, 0, 0]\n",
    "                cv2.putText(canvas, \"L\", (x, y), cv2.FONT_HERSHEY_SIMPLEX, 0.35, color, 1, cv2.LINE_AA)\n",
    "            elif right_end-(w+x) <= min_segment_to_edge_distance:\n",
    "                count, mean = get_mean_intensity(canvas[markers == label])\n",
    "                data.append([frame_index,\"R\", count, mean])\n",
    "\n",
    "                canvas[markers == label] = [255, 255, 0]\n",
    "                cv2.putText(canvas, \"R\", (x+w, y+h), cv2.FONT_HERSHEY_SIMPLEX, 0.35, color, 1, cv2.LINE_AA)\n",
    "                #right_rect = cv2.rectangle(canvas,(x,y),(x+w,y+h),(0,0,255),1)\n",
    "                right_segments.append((x, y, w, h))\n",
    "            else:\n",
    "                rand_color = [0,0,255]\n",
    "                canvas[markers == label] = rand_color\n",
    "\n",
    "        #rect = cv2.rectangle(canvas, (c_x,c_y), (c_x+c_w,c_y+c_h), color, 1)\n",
    "        writer.write(canvas)\n",
    "\n",
    "        cv2.imshow(\"Movie 1\", canvas)\n",
    "\n",
    "    # 1 frame per second\n",
    "    if cv2.waitKey(2000) & 0xFF == ord('q'):\n",
    "        break\n",
    "\n",
    "cap.release()\n",
    "writer.release()\n",
    "cv2.destroyAllWindows()"
   ]
  },
  {
   "cell_type": "markdown",
   "id": "3ce4e547-211a-4505-9467-9c87f5fdb6de",
   "metadata": {},
   "source": [
    "## Clean data\n",
    "- Convert data list to dataframe\n",
    "- Convert edges to 0 and 1 values (0 for right edge and 1 for left edge)"
   ]
  },
  {
   "cell_type": "code",
   "execution_count": 12,
   "id": "7d874f03-a8e9-4585-9e33-d8da6abe0659",
   "metadata": {},
   "outputs": [
    {
     "data": {
      "text/html": [
       "<div>\n",
       "<style scoped>\n",
       "    .dataframe tbody tr th:only-of-type {\n",
       "        vertical-align: middle;\n",
       "    }\n",
       "\n",
       "    .dataframe tbody tr th {\n",
       "        vertical-align: top;\n",
       "    }\n",
       "\n",
       "    .dataframe thead th {\n",
       "        text-align: right;\n",
       "    }\n",
       "</style>\n",
       "<table border=\"1\" class=\"dataframe\">\n",
       "  <thead>\n",
       "    <tr style=\"text-align: right;\">\n",
       "      <th></th>\n",
       "      <th>Frame</th>\n",
       "      <th>Intensity Count</th>\n",
       "      <th>Mean Intensity</th>\n",
       "      <th>Edge_L</th>\n",
       "    </tr>\n",
       "  </thead>\n",
       "  <tbody>\n",
       "    <tr>\n",
       "      <th>0</th>\n",
       "      <td>1</td>\n",
       "      <td>1303</td>\n",
       "      <td>31.053722</td>\n",
       "      <td>1</td>\n",
       "    </tr>\n",
       "    <tr>\n",
       "      <th>1</th>\n",
       "      <td>1</td>\n",
       "      <td>530</td>\n",
       "      <td>18.415094</td>\n",
       "      <td>0</td>\n",
       "    </tr>\n",
       "    <tr>\n",
       "      <th>2</th>\n",
       "      <td>2</td>\n",
       "      <td>700</td>\n",
       "      <td>18.792857</td>\n",
       "      <td>0</td>\n",
       "    </tr>\n",
       "    <tr>\n",
       "      <th>3</th>\n",
       "      <td>2</td>\n",
       "      <td>1469</td>\n",
       "      <td>31.147039</td>\n",
       "      <td>1</td>\n",
       "    </tr>\n",
       "    <tr>\n",
       "      <th>4</th>\n",
       "      <td>3</td>\n",
       "      <td>1223</td>\n",
       "      <td>36.260016</td>\n",
       "      <td>1</td>\n",
       "    </tr>\n",
       "  </tbody>\n",
       "</table>\n",
       "</div>"
      ],
      "text/plain": [
       "   Frame  Intensity Count  Mean Intensity  Edge_L\n",
       "0      1             1303       31.053722       1\n",
       "1      1              530       18.415094       0\n",
       "2      2              700       18.792857       0\n",
       "3      2             1469       31.147039       1\n",
       "4      3             1223       36.260016       1"
      ]
     },
     "execution_count": 12,
     "metadata": {},
     "output_type": "execute_result"
    }
   ],
   "source": [
    "data_df = pd.DataFrame(data, columns =  [\"Frame\", \"Edge\", \"Intensity Count\",\"Mean Intensity\"])\n",
    "dummies = pd.get_dummies(data_df)\n",
    "data_with_dummies_df = pd.concat([data_df, dummies[[\"Edge_L\"]]], axis='columns')\n",
    "cleaned_data = data_with_dummies_df.drop(['Edge'], axis='columns')*1\n",
    "cleaned_data.head()"
   ]
  },
  {
   "cell_type": "markdown",
   "id": "08b82298-5311-49a8-a05b-d006d6d0bb37",
   "metadata": {},
   "source": [
    "## Exploratory Analysis"
   ]
  },
  {
   "cell_type": "code",
   "execution_count": 15,
   "id": "4028d8df-12a4-499e-9e02-f29c365802b8",
   "metadata": {},
   "outputs": [
    {
     "data": {
      "text/plain": [
       "<Axes: >"
      ]
     },
     "execution_count": 15,
     "metadata": {},
     "output_type": "execute_result"
    },
    {
     "data": {
      "image/png": "[encoded data removed]",
      "text/plain": [
       "<Figure size 640x480 with 2 Axes>"
      ]
     },
     "metadata": {},
     "output_type": "display_data"
    }
   ],
   "source": [
    "# Correlation\n",
    "sns.heatmap(cleaned_data.corr())"
   ]
  },
  {
   "cell_type": "markdown",
   "id": "c706d7d2-eec7-4f90-b327-31d08d4d2ea2",
   "metadata": {},
   "source": [
    "- Strong correlation between Edge_L and Intensity Count (number of fluorescent pixels)\n",
    "- Edge_L also correlates strongly with Mean Intensity (Mean fluorescent intensity)"
   ]
  },
  {
   "cell_type": "code",
   "execution_count": 18,
   "id": "cb8c6402-91d1-4dd8-a15b-3a506be1a010",
   "metadata": {},
   "outputs": [
    {
     "data": {
      "text/plain": [
       "Text(0.5, 0.98, 'Plot Fluorescence at Left (1) and Right (0) edges')"
      ]
     },
     "execution_count": 18,
     "metadata": {},
     "output_type": "execute_result"
    },
    {
     "data": {
      "image/png": "[encoded data removed]",
      "text/plain": [
       "<Figure size 640x480 with 2 Axes>"
      ]
     },
     "metadata": {},
     "output_type": "display_data"
    }
   ],
   "source": [
    "fig, (ax1, ax2) = plt.subplots(2, sharex=True)\n",
    "x = data_df[\"Edge\"]\n",
    "y1 = cleaned_data[\"Intensity Count\"]\n",
    "y2 = cleaned_data[\"Mean Intensity\"]\n",
    "\n",
    "ax1.scatter(x, y1)\n",
    "ax2.scatter(x, y2)\n",
    " \n",
    "ax1.set_ylabel('Number of Detected Fluorescence')\n",
    "ax2.set_ylabel('Mean Fluorescent Intensity')\n",
    " \n",
    "fig.suptitle('Plot Fluorescence at Left (1) and Right (0) edges')"
   ]
  },
  {
   "cell_type": "markdown",
   "id": "4da8db38-bf2b-4baf-a9da-896be0665e2c",
   "metadata": {},
   "source": [
    "- Different distribution of fluorescence at both edges\n",
    "- Potential outlier at the Right edge (0)"
   ]
  },
  {
   "cell_type": "code",
   "execution_count": 21,
   "id": "637cbae5-856a-4faa-a533-d9cfc3d2dbcf",
   "metadata": {},
   "outputs": [
    {
     "data": {
      "text/plain": [
       "<Axes: xlabel='Edge', ylabel='Mean Intensity'>"
      ]
     },
     "execution_count": 21,
     "metadata": {},
     "output_type": "execute_result"
    },
    {
     "data": {
      "image/png": "[encoded data removed]",
      "text/plain": [
       "<Figure size 640x480 with 1 Axes>"
      ]
     },
     "metadata": {},
     "output_type": "display_data"
    }
   ],
   "source": [
    "sns.set_style(\"whitegrid\") \n",
    "sns.boxplot(x = 'Edge', y = 'Mean Intensity', data = data_df)"
   ]
  },
  {
   "cell_type": "markdown",
   "id": "706c73d2-29e8-4cbb-a9b7-0c623ba5e004",
   "metadata": {},
   "source": [
    "- 2 outliers on right edge"
   ]
  },
  {
   "cell_type": "code",
   "execution_count": 24,
   "id": "d80c4392-b961-41ba-aa51-f9663c0a2cad",
   "metadata": {},
   "outputs": [
    {
     "data": {
      "text/plain": [
       "<Axes: xlabel='Edge', ylabel='Intensity Count'>"
      ]
     },
     "execution_count": 24,
     "metadata": {},
     "output_type": "execute_result"
    },
    {
     "data": {
      "image/png": "[encoded data removed]",
      "text/plain": [
       "<Figure size 640x480 with 1 Axes>"
      ]
     },
     "metadata": {},
     "output_type": "display_data"
    }
   ],
   "source": [
    "sns.boxplot(x = 'Edge', y = 'Intensity Count', data = data_df)"
   ]
  },
  {
   "cell_type": "markdown",
   "id": "fb746de3-3807-4472-ab22-3aa5c50b3f6d",
   "metadata": {},
   "source": [
    "- 1 outlier on left edge"
   ]
  },
  {
   "cell_type": "code",
   "execution_count": 27,
   "id": "f1c8f6c4-d677-48bc-934c-b4ad85123dc7",
   "metadata": {},
   "outputs": [
    {
     "data": {
      "image/png": "[encoded data removed]",
      "text/plain": [
       "<Figure size 640x480 with 2 Axes>"
      ]
     },
     "metadata": {},
     "output_type": "display_data"
    }
   ],
   "source": [
    "# Compare counts and intensities\n",
    "fig, (ax1, ax2) = plt.subplots(2, sharex=True)\n",
    "\n",
    "left_edge_data = data_df[data_df[\"Edge\"] == \"L\"]\n",
    "right_edge_data = data_df[data_df[\"Edge\"] == \"R\"]\n",
    "\n",
    "X = left_edge_data[\"Frame\"]\n",
    "Y1 = left_edge_data[\"Intensity Count\"]\n",
    "Y2 = right_edge_data[\"Intensity Count\"]\n",
    "\n",
    "Y3 = left_edge_data[\"Mean Intensity\"]\n",
    "Y4 = right_edge_data[\"Mean Intensity\"]\n",
    "\n",
    "ax1.plot(X, Y1)\n",
    "ax1.plot(X, Y2)\n",
    "ax1.set_title(\"Number of Detected Fluorescence\")\n",
    "\n",
    "ax2.plot(X, Y3)\n",
    "ax2.plot(X, Y4)\n",
    "ax2.set_title(\"Mean Fluorescence\")\n",
    "\n",
    "ax1.legend([\"Left\",\"Right\"],loc='best') \n",
    "ax2.legend([\"Left\",\"Right\"],loc='best')\n",
    "\n",
    "plt.savefig(\"movie1_fluorescence_line_plot.png\")\n",
    "plt.show()"
   ]
  },
  {
   "cell_type": "markdown",
   "id": "da75354e-6a09-45a3-9027-4c8633f650bb",
   "metadata": {},
   "source": [
    "#### Investigate outliers"
   ]
  },
  {
   "cell_type": "markdown",
   "id": "bc69c0a2-f22f-40bb-b20b-3bb94de0b2d4",
   "metadata": {},
   "source": [
    "##### Outliers for Number of Detected Fluorescence"
   ]
  },
  {
   "cell_type": "code",
   "execution_count": 31,
   "id": "839c0955-13ff-43ff-9e1f-01a847a300c0",
   "metadata": {},
   "outputs": [
    {
     "name": "stdout",
     "output_type": "stream",
     "text": [
      "Left edge outliers: []\n"
     ]
    }
   ],
   "source": [
    "## Left edge\n",
    "Q3 = np.quantile(left_edge_data[\"Intensity Count\"], 0.75)\n",
    "Q1 = np.quantile(left_edge_data[\"Intensity Count\"], 0.25)\n",
    "IQR = Q3 - Q1\n",
    "lower_range = Q1 - 1.5 * IQR\n",
    "upper_range = Q3 + 1.5 * IQR\n",
    "left_count_outliers = left_edge_data[(left_edge_data[\"Intensity Count\"] < lower_range) | (left_edge_data[\"Intensity Count\"] > upper_range)]\n",
    "outliers = list(set(outliers + list(left_count_outliers[\"Frame\"])))\n",
    "outliers.sort()\n",
    "print(\"Left edge outliers:\", outliers)"
   ]
  },
  {
   "cell_type": "code",
   "execution_count": 33,
   "id": "cc021339-efc7-4aab-b393-488ed5e63ce1",
   "metadata": {},
   "outputs": [
    {
     "name": "stdout",
     "output_type": "stream",
     "text": [
      "Right edge outliers: []\n"
     ]
    }
   ],
   "source": [
    "## Right edge\n",
    "Q3 = np.quantile(right_edge_data[\"Intensity Count\"], 0.75)\n",
    "Q1 = np.quantile(right_edge_data[\"Intensity Count\"], 0.25)\n",
    "IQR = Q3 - Q1\n",
    "lower_range = Q1 - 1.5 * IQR\n",
    "upper_range = Q3 + 1.5 * IQR\n",
    "right_count_outliers = right_edge_data[(right_edge_data[\"Intensity Count\"] < lower_range) | (right_edge_data[\"Intensity Count\"] > upper_range)]\n",
    "outliers = list(set(outliers + list(right_count_outliers[\"Frame\"])))\n",
    "outliers.sort()\n",
    "print(\"Right edge outliers:\", outliers)"
   ]
  },
  {
   "cell_type": "code",
   "execution_count": 35,
   "id": "67540068-3431-4c08-82e1-f3e2f87352ac",
   "metadata": {},
   "outputs": [
    {
     "data": {
      "text/plain": [
       "[]"
      ]
     },
     "execution_count": 35,
     "metadata": {},
     "output_type": "execute_result"
    }
   ],
   "source": [
    "outliers"
   ]
  },
  {
   "cell_type": "code",
   "execution_count": 37,
   "id": "bddf0859-336e-49bf-b474-e465ae918477",
   "metadata": {},
   "outputs": [],
   "source": [
    "if len(outliers) > 0:\n",
    "    fig, (axes1, axes2) = plt.subplots(2, len(outliers), sharex=False, sharey=False, figsize=(12, 10))\n",
    "    \n",
    "    video_name = \"movie1_segments.avi\"\n",
    "    cap = cv2.VideoCapture(video_name)\n",
    "    \n",
    "    if len(outliers) > 1:\n",
    "        for i in range(0, len(outliers)):\n",
    "            frame = cv2.imread(f\"movies/movie1/{outliers[i]}.jpg\")\n",
    "            axes1[i].grid(False)\n",
    "            axes1[i].imshow(frame)\n",
    "            axes1[i].set_title(f'Original Frame {outliers[i]}')\n",
    "    elif len(outliers) == 1:\n",
    "        frame = cv2.imread(f\"movies/movie1/{outliers[0]}.jpg\")\n",
    "        axes1.grid(False)\n",
    "        axes1.imshow(frame)\n",
    "        axes1.set_title(f'Original Frame {outliers[0]}')\n",
    "        \n",
    "    if len(outliers) > 1:\n",
    "        for i in range(0, len(outliers)):\n",
    "            cap.set(1,outliers[i]-1)\n",
    "            ret, frame = cap.read()\n",
    "            axes2[i].grid(False)\n",
    "            axes2[i].imshow(frame)\n",
    "            axes2[i].set_title(f'Frame {outliers[i]}')\n",
    "            \n",
    "    elif len(outliers) == 1:\n",
    "        cap.set(1,outliers[0]-1)\n",
    "        ret, frame = cap.read()\n",
    "        axes2.grid(False)\n",
    "        axes2.imshow(frame)\n",
    "        axes2.set_title(f'Frame {outliers[0]}')\n",
    "            \n",
    "    cap.release()\n",
    "    plt.suptitle(\"Outliers for Number of Detected Fluorescence on both edges compared to Original Frame\")\n",
    "    plt.savefig(\"movie1_outlier_on_frame3.png\")\n",
    "    plt.show()"
   ]
  },
  {
   "cell_type": "code",
   "execution_count": 39,
   "id": "670c4851-3a96-4a82-a3f6-b98263beb194",
   "metadata": {},
   "outputs": [
    {
     "data": {
      "text/html": [
       "<div>\n",
       "<style scoped>\n",
       "    .dataframe tbody tr th:only-of-type {\n",
       "        vertical-align: middle;\n",
       "    }\n",
       "\n",
       "    .dataframe tbody tr th {\n",
       "        vertical-align: top;\n",
       "    }\n",
       "\n",
       "    .dataframe thead th {\n",
       "        text-align: right;\n",
       "    }\n",
       "</style>\n",
       "<table border=\"1\" class=\"dataframe\">\n",
       "  <thead>\n",
       "    <tr style=\"text-align: right;\">\n",
       "      <th></th>\n",
       "      <th>Frame</th>\n",
       "      <th>Edge</th>\n",
       "      <th>Intensity Count</th>\n",
       "      <th>Mean Intensity</th>\n",
       "    </tr>\n",
       "  </thead>\n",
       "  <tbody>\n",
       "  </tbody>\n",
       "</table>\n",
       "</div>"
      ],
      "text/plain": [
       "Empty DataFrame\n",
       "Columns: [Frame, Edge, Intensity Count, Mean Intensity]\n",
       "Index: []"
      ]
     },
     "execution_count": 39,
     "metadata": {},
     "output_type": "execute_result"
    }
   ],
   "source": [
    "data_df[data_df[\"Frame\"].isin(outliers)]"
   ]
  },
  {
   "cell_type": "code",
   "execution_count": 41,
   "id": "bb3ed8f6-98a2-4068-baea-c0505f51cea3",
   "metadata": {},
   "outputs": [],
   "source": [
    "# Reset outliers\n",
    "outliers = []"
   ]
  },
  {
   "cell_type": "markdown",
   "id": "978e966d-c2ac-4ede-9084-bf0a50a46239",
   "metadata": {},
   "source": [
    "##### Outliers for Mean Fluorescent Intensity"
   ]
  },
  {
   "cell_type": "code",
   "execution_count": 44,
   "id": "2b8934d4-ff8e-4880-afbd-0d9492906d69",
   "metadata": {},
   "outputs": [
    {
     "name": "stdout",
     "output_type": "stream",
     "text": [
      "Left edge outliers: []\n"
     ]
    }
   ],
   "source": [
    "## Left edge\n",
    "Q3 = np.quantile(left_edge_data[\"Mean Intensity\"], 0.75)\n",
    "Q1 = np.quantile(left_edge_data[\"Mean Intensity\"], 0.25)\n",
    "IQR = Q3 - Q1\n",
    "lower_range = Q1 - 1.5 * IQR\n",
    "upper_range = Q3 + 1.5 * IQR\n",
    "left_mean_outliers = left_edge_data[(left_edge_data[\"Mean Intensity\"] < lower_range) | (left_edge_data[\"Mean Intensity\"] > upper_range)]\n",
    "outliers = list(set(outliers + list(left_mean_outliers[\"Frame\"])))\n",
    "outliers.sort()\n",
    "print(\"Left edge outliers:\", outliers)"
   ]
  },
  {
   "cell_type": "code",
   "execution_count": 46,
   "id": "493210bf-14d2-4e1e-95f7-859cff69b320",
   "metadata": {},
   "outputs": [
    {
     "name": "stdout",
     "output_type": "stream",
     "text": [
      "Right edge outliers: []\n"
     ]
    }
   ],
   "source": [
    "## Right edge\n",
    "Q3 = np.quantile(right_edge_data[\"Mean Intensity\"], 0.75)\n",
    "Q1 = np.quantile(right_edge_data[\"Mean Intensity\"], 0.25)\n",
    "IQR = Q3 - Q1\n",
    "lower_range = Q1 - 1.5 * IQR\n",
    "upper_range = Q3 + 1.5 * IQR\n",
    "right_mean_outliers = right_edge_data[(right_edge_data[\"Mean Intensity\"] < lower_range) | (right_edge_data[\"Mean Intensity\"] > upper_range)]\n",
    "outliers = list(set(outliers + list(right_mean_outliers[\"Frame\"])))\n",
    "outliers.sort()\n",
    "print(\"Right edge outliers:\", outliers)"
   ]
  },
  {
   "cell_type": "code",
   "execution_count": 48,
   "id": "4d19fa86-2df8-4bd6-932e-11037f329cd9",
   "metadata": {},
   "outputs": [],
   "source": [
    "if len(outliers) > 0:\n",
    "    fig, (axes1, axes2) = plt.subplots(2, len(outliers), sharex=False, sharey=False, figsize=(12, 10))\n",
    "    \n",
    "    video_name = \"movie1_segments.avi\"\n",
    "    cap = cv2.VideoCapture(video_name)\n",
    "    \n",
    "    if len(outliers) > 1:\n",
    "        for i in range(0, len(outliers)):\n",
    "            frame = cv2.imread(f\"movies/movie1/{outliers[i]}.jpg\")\n",
    "            axes1[i].grid(False)\n",
    "            axes1[i].imshow(frame)\n",
    "            axes1[i].set_title(f'Original Frame {outliers[i]}')\n",
    "    elif len(outliers) == 1:\n",
    "        frame = cv2.imread(f\"movies/movie1/{outliers[0]}.jpg\")\n",
    "        axes1.grid(False)\n",
    "        axes1.imshow(frame)\n",
    "        axes1.set_title(f'Original Frame {outliers[0]}')\n",
    "        \n",
    "    if len(outliers) > 1:\n",
    "        for i in range(0, len(outliers)):\n",
    "            cap.set(1,outliers[i]-1)\n",
    "            ret, frame = cap.read()\n",
    "            axes2[i].grid(False)\n",
    "            axes2[i].imshow(frame)\n",
    "            axes2[i].set_title(f'Frame {outliers[i]}')\n",
    "            \n",
    "    elif len(outliers) == 1:\n",
    "        cap.set(1,outliers[0]-1)\n",
    "        ret, frame = cap.read()\n",
    "        axes2.grid(False)\n",
    "        axes2.imshow(frame)\n",
    "        axes2.set_title(f'Frame {outliers[0]}')\n",
    "            \n",
    "    cap.release()\n",
    "    plt.suptitle(\"Outliers for Mean Fluorescent Intensity at both edges compared to Original Frame\")\n",
    "    plt.savefig(\"movie1_outlier_on_frame8.png\")\n",
    "    plt.show()"
   ]
  },
  {
   "cell_type": "code",
   "execution_count": 50,
   "id": "2972d802-7b8f-4b50-97bc-029b158b4363",
   "metadata": {},
   "outputs": [
    {
     "data": {
      "text/html": [
       "<div>\n",
       "<style scoped>\n",
       "    .dataframe tbody tr th:only-of-type {\n",
       "        vertical-align: middle;\n",
       "    }\n",
       "\n",
       "    .dataframe tbody tr th {\n",
       "        vertical-align: top;\n",
       "    }\n",
       "\n",
       "    .dataframe thead th {\n",
       "        text-align: right;\n",
       "    }\n",
       "</style>\n",
       "<table border=\"1\" class=\"dataframe\">\n",
       "  <thead>\n",
       "    <tr style=\"text-align: right;\">\n",
       "      <th></th>\n",
       "      <th>Frame</th>\n",
       "      <th>Edge</th>\n",
       "      <th>Intensity Count</th>\n",
       "      <th>Mean Intensity</th>\n",
       "    </tr>\n",
       "  </thead>\n",
       "  <tbody>\n",
       "  </tbody>\n",
       "</table>\n",
       "</div>"
      ],
      "text/plain": [
       "Empty DataFrame\n",
       "Columns: [Frame, Edge, Intensity Count, Mean Intensity]\n",
       "Index: []"
      ]
     },
     "execution_count": 50,
     "metadata": {},
     "output_type": "execute_result"
    }
   ],
   "source": [
    "data_df[data_df[\"Frame\"].isin(outliers)]"
   ]
  },
  {
   "cell_type": "markdown",
   "id": "e6fe8ff0-20fd-4c2e-81eb-ae8039b88fbf",
   "metadata": {},
   "source": [
    "## Analysis of Variance between Left Edge and Right Edge Fluorescence\n",
    "- Test to see if the observed difference in fluorescence are statistically significant\n",
    "- Effect of outliers on test"
   ]
  },
  {
   "cell_type": "markdown",
   "id": "58018fb0-7bd5-4356-a8c3-e900d5c1f3e8",
   "metadata": {},
   "source": [
    "##### With Outliers"
   ]
  },
  {
   "cell_type": "code",
   "execution_count": 54,
   "id": "da2f01d6-13ff-4db8-ab3d-1ab7bda4241e",
   "metadata": {},
   "outputs": [
    {
     "data": {
      "text/plain": [
       "F_onewayResult(statistic=349.6647787311387, pvalue=8.190987682786277e-16)"
      ]
     },
     "execution_count": 54,
     "metadata": {},
     "output_type": "execute_result"
    }
   ],
   "source": [
    "import scipy.stats as stats\n",
    "stats.f_oneway(left_edge_data[\"Intensity Count\"], right_edge_data[\"Intensity Count\"])"
   ]
  },
  {
   "cell_type": "markdown",
   "id": "2f5e61b7-f48d-4e4c-9228-c950f4f53344",
   "metadata": {},
   "source": [
    "- ANOVA test finds enough evidence for statistical difference between the mean Number of detected fluorescence at the Left (Trailing) edge and that at the Right (Leading) edge\n",
    "- F-statistic = 349.665\n",
    "- P-value = 8.191e-16"
   ]
  },
  {
   "cell_type": "code",
   "execution_count": 57,
   "id": "cc457bca-8682-4d23-907d-565fb48a3bba",
   "metadata": {},
   "outputs": [
    {
     "data": {
      "text/plain": [
       "F_onewayResult(statistic=241.34017995460027, pvalue=5.048361121009076e-14)"
      ]
     },
     "execution_count": 57,
     "metadata": {},
     "output_type": "execute_result"
    }
   ],
   "source": [
    "stats.f_oneway(left_edge_data[\"Mean Intensity\"], right_edge_data[\"Mean Intensity\"])"
   ]
  },
  {
   "cell_type": "markdown",
   "id": "cee39c93-a8e4-4bd1-9b36-e95aad48fa74",
   "metadata": {},
   "source": [
    "- ANOVA test finds enough evidence for statistical difference between the means of Mean FLuorescent Intensity at Trailing and Leading edges\n",
    "- F-statistic = 241.340\n",
    "- P-value = 5.048e-14"
   ]
  },
  {
   "cell_type": "code",
   "execution_count": null,
   "id": "624a988a-a3bb-4a19-bf5a-db536aa08e32",
   "metadata": {},
   "outputs": [],
   "source": []
  }
 ],
 "metadata": {
  "kernelspec": {
   "display_name": "Python 3 (ipykernel)",
   "language": "python",
   "name": "python3"
  },
  "language_info": {
   "codemirror_mode": {
    "name": "ipython",
    "version": 3
   },
   "file_extension": ".py",
   "mimetype": "text/x-python",
   "name": "python",
   "nbconvert_exporter": "python",
   "pygments_lexer": "ipython3",
   "version": "3.12.4"
  }
 },
 "nbformat": 4,
 "nbformat_minor": 5
}
