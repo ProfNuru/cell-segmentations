{
 "cells": [
  {
   "cell_type": "code",
   "execution_count": 1,
   "id": "df640f0d-0662-4531-9252-a0173fea84a5",
   "metadata": {},
   "outputs": [],
   "source": [
    "%matplotlib inline\n",
    "from matplotlib import pyplot as plt\n",
    "import numpy as np\n",
    "import pandas as pd\n",
    "import cv2\n",
    "import seaborn as sns\n",
    "\n",
    "movie2_path = \"movies/movie2.avi\""
   ]
  },
  {
   "cell_type": "code",
   "execution_count": 3,
   "id": "3583a511-3d54-4a1b-be0a-921c5c4c3e28",
   "metadata": {},
   "outputs": [],
   "source": [
    "def get_bounding_boxes(img):\n",
    "    contours, hierarchy = cv2.findContours(img, 1, 2)\n",
    "    c = max(contours, key=cv2.contourArea)\n",
    "    \n",
    "    leftBoundingRect = cv2.boundingRect(c[c[:, :, 0].argmin()])\n",
    "    rightBoundingRect = cv2.boundingRect(c[c[:, :, 0].argmax()])\n",
    "\n",
    "    return leftBoundingRect, rightBoundingRect, c\n",
    "\n",
    "def check_sections(frame, check_size=10, min_mean_pixel=0.03):\n",
    "    sections = []\n",
    "    for c in range(0, frame.shape[1], check_size):\n",
    "        mean_pixel = cv2.mean(frame[:,c:c+check_size])[0]\n",
    "        #print(\"Current mean pixel:\", mean_pixel)\n",
    "        sections.append((mean_pixel, c, check_size))\n",
    "    return sections\n",
    "\n",
    "def get_left_side(frame, check_size=10, min_mean_pixel=0.03):\n",
    "    for c in range(0, frame.shape[1], check_size):\n",
    "        mean_pixel = cv2.mean(frame[:,c:c+check_size])[0]\n",
    "        if mean_pixel > min_mean_pixel:\n",
    "            return c\n",
    "    return 0\n",
    "\n",
    "def get_right_side(frame, check_size=10, min_mean_pixel=0.03):\n",
    "    for c in range(frame.shape[1], 0, -(check_size)):\n",
    "        mean_pixel = cv2.mean(frame[:,c-check_size:c])[0]\n",
    "        if mean_pixel > min_mean_pixel:\n",
    "            return c\n",
    "    return 0\n",
    "\n",
    "\n",
    "def get_segment_gaps(right_segments, edge=0, side='left', fill_size=2, space_from_edge=0):\n",
    "    gaps = []\n",
    "    for i in range(1,len(right_segments)):\n",
    "        px, py, pw, ph = right_segments[i-1]\n",
    "        nx, ny, nw, nh = right_segments[i]\n",
    "        \n",
    "        gx = edge+space_from_edge if side=='left' else edge-fill_size-space_from_edge\n",
    "        gy = (py+ph)-1 if py+ph<=ny else (ny+nh)-1\n",
    "        gw = fill_size\n",
    "        gh = ny-(py+ph)+2 if py+ph<=ny else py-(ny+nh) +2\n",
    "\n",
    "        print(\"Gap:\", (gx, gy, gw, gh))\n",
    "        gaps.append((gx, gy, gw, gh))\n",
    "    return gaps\n",
    "\n",
    "def get_mean_intensity(section):\n",
    "    count = np.nonzero(section)[0].size\n",
    "    mean = np.sum(section) / count\n",
    "    #print(count, mean)\n",
    "    return count, mean\n",
    "\n",
    "outliers = []"
   ]
  },
  {
   "cell_type": "code",
   "execution_count": null,
   "id": "ac211024-2364-4695-a333-5c15c15e1c8c",
   "metadata": {},
   "outputs": [],
   "source": []
  },
  {
   "cell_type": "code",
   "execution_count": null,
   "id": "58ccbb9c-6adc-4a0f-bdff-8a1f6f20f394",
   "metadata": {},
   "outputs": [],
   "source": []
  },
  {
   "cell_type": "code",
   "execution_count": null,
   "id": "fc2bcab9-7f3b-4d70-bad6-22bf5a6444db",
   "metadata": {},
   "outputs": [],
   "source": []
  },
  {
   "cell_type": "code",
   "execution_count": null,
   "id": "632129f4-6696-4607-b24d-e8a431f4da75",
   "metadata": {},
   "outputs": [],
   "source": []
  }
 ],
 "metadata": {
  "kernelspec": {
   "display_name": "Python 3 (ipykernel)",
   "language": "python",
   "name": "python3"
  },
  "language_info": {
   "codemirror_mode": {
    "name": "ipython",
    "version": 3
   },
   "file_extension": ".py",
   "mimetype": "text/x-python",
   "name": "python",
   "nbconvert_exporter": "python",
   "pygments_lexer": "ipython3",
   "version": "3.12.4"
  }
 },
 "nbformat": 4,
 "nbformat_minor": 5
}
