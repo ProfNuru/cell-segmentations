{
 "cells": [
  {
   "cell_type": "markdown",
   "id": "2704cafa",
   "metadata": {},
   "source": [
    "# Movie 6"
   ]
  },
  {
   "cell_type": "code",
   "execution_count": 2,
   "id": "5b98a375",
   "metadata": {},
   "outputs": [],
   "source": [
    "%matplotlib inline\n",
    "from matplotlib import pyplot as plt\n",
    "import seaborn as sns\n",
    "import pandas as pd\n",
    "import numpy as np\n",
    "import cv2\n",
    "\n",
    "movie6_path = \"movies/movie6.avi\""
   ]
  },
  {
   "cell_type": "markdown",
   "id": "bf035bab-20fd-4443-beb9-d29e1cbdb375",
   "metadata": {},
   "source": [
    "## Functions for detecting edges"
   ]
  },
  {
   "cell_type": "code",
   "execution_count": 4,
   "id": "19c2e48e",
   "metadata": {},
   "outputs": [],
   "source": [
    "# Detect edges with OpenCV's findContours\n",
    "# No longer used\n",
    "def get_bounding_boxes(img):\n",
    "    contours, hierarchy = cv2.findContours(img, 1, 2)\n",
    "    c = max(contours, key=cv2.contourArea)\n",
    "    \n",
    "    leftBoundingRect = cv2.boundingRect(c[c[:, :, 0].argmin()])\n",
    "    rightBoundingRect = cv2.boundingRect(c[c[:, :, 0].argmax()])\n",
    "\n",
    "    return leftBoundingRect, rightBoundingRect, c\n",
    "\n",
    "# Detect edges by detecting the first occurrence of a minimum rectangular section where the mean pixel values exceeds a threshold\n",
    "# Threshold differs for different movies\n",
    "\n",
    "# check_section is used to calibrate and find the right parameters for a movie\n",
    "def check_sections(frame, check_size=10, min_mean_pixel=0.03):\n",
    "    sections = []\n",
    "    for c in range(0, frame.shape[1], check_size):\n",
    "        mean_pixel = cv2.mean(frame[:,c:c+check_size])[0]\n",
    "        #print(\"Current mean pixel:\", mean_pixel)\n",
    "        sections.append((mean_pixel, c, check_size))\n",
    "    return sections\n",
    "\n",
    "\n",
    "def get_left_side(frame, check_size=10, min_mean_pixel=0.03):\n",
    "    for c in range(0, frame.shape[1], check_size):\n",
    "        mean_pixel = cv2.mean(frame[:,c:c+check_size])[0]\n",
    "        if mean_pixel > min_mean_pixel:\n",
    "            return c\n",
    "    return 0\n",
    "\n",
    "def get_right_side(frame, check_size=10, min_mean_pixel=0.03):\n",
    "    for c in range(frame.shape[1], 0, -(check_size)):\n",
    "        mean_pixel = cv2.mean(frame[:,c-check_size:c])[0]\n",
    "        if mean_pixel > min_mean_pixel:\n",
    "            return c\n",
    "    return 0\n",
    "\n",
    "def get_mean_intensity(section):\n",
    "    count = np.nonzero(section)[0].size\n",
    "    mean = np.sum(section) / count\n",
    "    #print(count, mean)\n",
    "    return count, mean"
   ]
  },
  {
   "cell_type": "code",
   "execution_count": 5,
   "id": "d7120871-43dc-4a54-836c-0b89d27b05ce",
   "metadata": {},
   "outputs": [],
   "source": [
    "# This cell was used to generate frames used to calibrate and test parameters  \n",
    "#movie_path = \"movies/movie6.avi\"\n",
    "#output_path = \"movies/movie6\"\n",
    "#movie = cv2.VideoCapture(movie_path)\n",
    "#count = 0\n",
    "#while movie.isOpened():\n",
    "#    count += 1\n",
    "#    success, frame = movie.read()\n",
    "#    if not success:\n",
    "#        break\n",
    "#    cv2.imwrite(f'{output_path}/frame{count}.jpg', frame)\n",
    "\n",
    "#movie.release()\n",
    "#cv2.destroyAllWindows()"
   ]
  },
  {
   "cell_type": "code",
   "execution_count": 6,
   "id": "678a02cb-c2e9-4f0e-b786-af1853d81378",
   "metadata": {},
   "outputs": [],
   "source": [
    "# from skimage import io\n",
    "# canvas = io.imread(\"movies/movie6/frame42.jpg\")\n",
    "# img = canvas[18:110,:350]\n",
    "\n",
    "# plt.imshow(img)"
   ]
  },
  {
   "cell_type": "code",
   "execution_count": 15,
   "id": "18a1fcf6",
   "metadata": {},
   "outputs": [
    {
     "name": "stdout",
     "output_type": "stream",
     "text": [
      "Press 'q' to end video\n"
     ]
    }
   ],
   "source": [
    "print(\"Press 'q' to end video\")\n",
    "cap = cv2.VideoCapture(movie6_path)\n",
    "\n",
    "\n",
    "# Get movie frame size\n",
    "width = int(cap.get(cv2.CAP_PROP_FRAME_WIDTH) + 0.5)\n",
    "height = int(cap.get(cv2.CAP_PROP_FRAME_HEIGHT) + 0.5)\n",
    "frame_size = (width, height)\n",
    "\n",
    "# Initialize video writer to save segmented movie at 1 frame per second\n",
    "writer = cv2.VideoWriter(\"movie6_segments.avi\", cv2.VideoWriter_fourcc(*\"XVID\"), 1.0, frame_size)\n",
    "\n",
    "frame_index = 0\n",
    "\n",
    "data = []\n",
    "\n",
    "while True:\n",
    "    frame_index += 1\n",
    "    success, frame = cap.read()\n",
    "\n",
    "    if success and frame.size != 0:\n",
    "        # Crop frame to remove text\n",
    "        canvas = np.zeros((frame.shape), np.uint8)\n",
    "        canvas = frame[20:110, 0:355]\n",
    "        \n",
    "        # Blur to fill threshold gaps\n",
    "        gray_frame = cv2.cvtColor(canvas, cv2.COLOR_BGR2GRAY)\n",
    "        _, imgThreshold = cv2.threshold(gray_frame, 50, 255, cv2.THRESH_BINARY)\n",
    "        blur_frame = cv2.GaussianBlur(imgThreshold, (7, 7), 0)\n",
    "\n",
    "        \n",
    "        # Get trailing and leading bounding rectangle, and entire cell contour\n",
    "        left_end = get_left_side(imgThreshold, check_size=3, min_mean_pixel=5)\n",
    "        right_end = get_right_side(imgThreshold, check_size=5, min_mean_pixel=15)\n",
    "\n",
    "        left_side_thickness = 30\n",
    "        right_side_thickness = 30\n",
    "        left_side_offset_correction = 10\n",
    "        right_side_offset_correction = 10\n",
    "\n",
    "        right_section = imgThreshold[:, right_end-right_side_thickness:right_end+right_side_offset_correction]\n",
    "        right_blur = cv2.blur(right_section, (10,10))\n",
    "        _, right_thresh = cv2.threshold(right_blur, 170, 255, cv2.THRESH_BINARY)\n",
    "\n",
    "        imgThreshold[:, right_end-right_side_thickness:right_end+right_side_offset_correction] = right_thresh\n",
    "\n",
    "        kernel = cv2.getStructuringElement(cv2.MORPH_RECT, (2, 2))\n",
    "\n",
    "        bin_img = cv2.morphologyEx(imgThreshold,\n",
    "                           cv2.MORPH_OPEN,\n",
    "                           kernel,\n",
    "                           iterations=2)\n",
    "\n",
    "        sure_bg = cv2.dilate(bin_img, kernel, iterations=3)\n",
    "        dist = cv2.distanceTransform(bin_img, cv2.DIST_L2, 0)\n",
    "        \n",
    "        ret, sure_fg = cv2.threshold(dist, 0.21 * dist.max(), 255, cv2.THRESH_BINARY)\n",
    "        sure_fg = sure_fg.astype(np.uint8)\n",
    "\n",
    "        unknown = cv2.subtract(sure_bg, sure_fg)\n",
    "\n",
    "        ret, markers = cv2.connectedComponents(sure_fg)\n",
    "        markers += 1\n",
    "        markers[unknown == 255] = 0\n",
    "\n",
    "        markers = cv2.watershed(canvas, markers)\n",
    "        \n",
    "        regions = []\n",
    "\n",
    "        labels = np.unique(markers)\n",
    "        left_segments = []\n",
    "        right_segments = []\n",
    "        left_color = [255,0,0]\n",
    "        right_color = [255,255,0]\n",
    "        \n",
    "        edges = {\n",
    "            \"left\":{\n",
    "                \"frame_index\":frame_index,\n",
    "                \"count\": 0,\n",
    "                \"mean\": 0,\n",
    "                \"num_of_segments\":0,\n",
    "            },\n",
    "            \"right\":{\n",
    "                \"frame_index\":frame_index,\n",
    "                \"count\": 0,\n",
    "                \"mean\": 0,\n",
    "                \"num_of_segments\":0,\n",
    "            },\n",
    "        }\n",
    "\n",
    "        for label in labels[2:]:\n",
    "        # Create a binary image in which only the area of the label is in the foreground \n",
    "        #and the rest of the image is in the background   \n",
    "            target = np.where(markers == label, 255, 0).astype(np.uint8)\n",
    "            x,y,w,h = cv2.boundingRect(target)\n",
    "\n",
    "            min_segment_to_edge_distance = 10\n",
    "\n",
    "            color = (255, 255, 255)\n",
    "            if x-left_end <= min_segment_to_edge_distance:\n",
    "                count, mean = get_mean_intensity(canvas[markers == label])\n",
    "                edges[\"left\"][\"frame_index\"] = frame_index\n",
    "                edges[\"left\"][\"count\"] += count\n",
    "                edges[\"left\"][\"mean\"] += mean\n",
    "                edges[\"left\"][\"num_of_segments\"] += 1\n",
    "                \n",
    "                canvas[markers == label] = left_color\n",
    "                #cv2.putText(canvas, \"L\", (x, y), cv2.FONT_HERSHEY_SIMPLEX, 0.35, color, 1, cv2.LINE_AA)\n",
    "                #left_segments.append((x,y,w,h))\n",
    "            elif right_end-(w+x) <= min_segment_to_edge_distance:\n",
    "                count, mean = get_mean_intensity(canvas[markers == label])\n",
    "                edges[\"right\"][\"frame_index\"] = frame_index\n",
    "                edges[\"right\"][\"count\"] += count\n",
    "                edges[\"right\"][\"mean\"] += mean\n",
    "                edges[\"right\"][\"num_of_segments\"] += 1\n",
    "\n",
    "                canvas[markers == label] = right_color\n",
    "                cv2.putText(canvas, f'{frame_index}', (x+w, y+h), cv2.FONT_HERSHEY_SIMPLEX, 0.35, color, 1, cv2.LINE_AA)\n",
    "                #right_segments.append((x,y,w,h))\n",
    "            else:\n",
    "                canvas[markers == label] = np.random.randint(0, 255, size=3)\n",
    "\n",
    "        if edges[\"left\"][\"num_of_segments\"] > 0:\n",
    "            data.append([edges[\"left\"][\"frame_index\"], \"L\", edges[\"left\"][\"count\"], edges[\"left\"][\"mean\"], edges[\"left\"][\"mean\"]/edges[\"left\"][\"num_of_segments\"], left_end])\n",
    "        else:\n",
    "            data.append([edges[\"left\"][\"frame_index\"], \"L\", edges[\"left\"][\"count\"], edges[\"left\"][\"mean\"], edges[\"left\"][\"mean\"]/1, left_end])\n",
    "        if edges[\"right\"][\"num_of_segments\"] > 0:\n",
    "            data.append([edges[\"right\"][\"frame_index\"], \"R\", edges[\"right\"][\"count\"], edges[\"right\"][\"mean\"], edges[\"right\"][\"mean\"]/edges[\"right\"][\"num_of_segments\"], left_end])\n",
    "        else:\n",
    "            data.append([edges[\"right\"][\"frame_index\"], \"R\", edges[\"right\"][\"count\"], edges[\"right\"][\"mean\"], edges[\"right\"][\"mean\"]/1, left_end])\n",
    "\n",
    "        writer.write(canvas)\n",
    "        cv2.imshow(\"Movie 6\", canvas)\n",
    "\n",
    "    else:\n",
    "        break\n",
    "\n",
    "    if cv2.waitKey(10) & 0xFF == ord('q'):\n",
    "        break\n",
    "\n",
    "cap.release()\n",
    "writer.release()\n",
    "cv2.destroyAllWindows()"
   ]
  },
  {
   "cell_type": "code",
   "execution_count": 17,
   "id": "ac1c65ec",
   "metadata": {},
   "outputs": [
    {
     "data": {
      "text/html": [
       "<div>\n",
       "<style scoped>\n",
       "    .dataframe tbody tr th:only-of-type {\n",
       "        vertical-align: middle;\n",
       "    }\n",
       "\n",
       "    .dataframe tbody tr th {\n",
       "        vertical-align: top;\n",
       "    }\n",
       "\n",
       "    .dataframe thead th {\n",
       "        text-align: right;\n",
       "    }\n",
       "</style>\n",
       "<table border=\"1\" class=\"dataframe\">\n",
       "  <thead>\n",
       "    <tr style=\"text-align: right;\">\n",
       "      <th></th>\n",
       "      <th>Frame</th>\n",
       "      <th>Intensity Count</th>\n",
       "      <th>Intensity</th>\n",
       "      <th>Average Intensity</th>\n",
       "      <th>Position</th>\n",
       "      <th>Displacement</th>\n",
       "      <th>Stimulated</th>\n",
       "      <th>Edge_L</th>\n",
       "    </tr>\n",
       "  </thead>\n",
       "  <tbody>\n",
       "    <tr>\n",
       "      <th>1</th>\n",
       "      <td>1</td>\n",
       "      <td>0</td>\n",
       "      <td>0.000000</td>\n",
       "      <td>0.000000</td>\n",
       "      <td>132</td>\n",
       "      <td>0</td>\n",
       "      <td>0</td>\n",
       "      <td>0</td>\n",
       "    </tr>\n",
       "    <tr>\n",
       "      <th>3</th>\n",
       "      <td>2</td>\n",
       "      <td>0</td>\n",
       "      <td>0.000000</td>\n",
       "      <td>0.000000</td>\n",
       "      <td>135</td>\n",
       "      <td>3</td>\n",
       "      <td>0</td>\n",
       "      <td>0</td>\n",
       "    </tr>\n",
       "    <tr>\n",
       "      <th>5</th>\n",
       "      <td>3</td>\n",
       "      <td>0</td>\n",
       "      <td>0.000000</td>\n",
       "      <td>0.000000</td>\n",
       "      <td>132</td>\n",
       "      <td>0</td>\n",
       "      <td>0</td>\n",
       "      <td>0</td>\n",
       "    </tr>\n",
       "    <tr>\n",
       "      <th>7</th>\n",
       "      <td>4</td>\n",
       "      <td>0</td>\n",
       "      <td>0.000000</td>\n",
       "      <td>0.000000</td>\n",
       "      <td>135</td>\n",
       "      <td>3</td>\n",
       "      <td>0</td>\n",
       "      <td>0</td>\n",
       "    </tr>\n",
       "    <tr>\n",
       "      <th>9</th>\n",
       "      <td>5</td>\n",
       "      <td>0</td>\n",
       "      <td>0.000000</td>\n",
       "      <td>0.000000</td>\n",
       "      <td>135</td>\n",
       "      <td>3</td>\n",
       "      <td>0</td>\n",
       "      <td>0</td>\n",
       "    </tr>\n",
       "    <tr>\n",
       "      <th>...</th>\n",
       "      <td>...</td>\n",
       "      <td>...</td>\n",
       "      <td>...</td>\n",
       "      <td>...</td>\n",
       "      <td>...</td>\n",
       "      <td>...</td>\n",
       "      <td>...</td>\n",
       "      <td>...</td>\n",
       "    </tr>\n",
       "    <tr>\n",
       "      <th>121</th>\n",
       "      <td>61</td>\n",
       "      <td>582</td>\n",
       "      <td>323.833059</td>\n",
       "      <td>107.944353</td>\n",
       "      <td>153</td>\n",
       "      <td>21</td>\n",
       "      <td>1</td>\n",
       "      <td>0</td>\n",
       "    </tr>\n",
       "    <tr>\n",
       "      <th>123</th>\n",
       "      <td>62</td>\n",
       "      <td>729</td>\n",
       "      <td>203.181326</td>\n",
       "      <td>101.590663</td>\n",
       "      <td>153</td>\n",
       "      <td>21</td>\n",
       "      <td>1</td>\n",
       "      <td>0</td>\n",
       "    </tr>\n",
       "    <tr>\n",
       "      <th>125</th>\n",
       "      <td>63</td>\n",
       "      <td>622</td>\n",
       "      <td>184.585248</td>\n",
       "      <td>92.292624</td>\n",
       "      <td>153</td>\n",
       "      <td>21</td>\n",
       "      <td>1</td>\n",
       "      <td>0</td>\n",
       "    </tr>\n",
       "    <tr>\n",
       "      <th>127</th>\n",
       "      <td>64</td>\n",
       "      <td>605</td>\n",
       "      <td>206.021195</td>\n",
       "      <td>103.010597</td>\n",
       "      <td>153</td>\n",
       "      <td>21</td>\n",
       "      <td>1</td>\n",
       "      <td>0</td>\n",
       "    </tr>\n",
       "    <tr>\n",
       "      <th>129</th>\n",
       "      <td>65</td>\n",
       "      <td>520</td>\n",
       "      <td>105.009615</td>\n",
       "      <td>105.009615</td>\n",
       "      <td>147</td>\n",
       "      <td>15</td>\n",
       "      <td>1</td>\n",
       "      <td>0</td>\n",
       "    </tr>\n",
       "  </tbody>\n",
       "</table>\n",
       "<p>65 rows × 8 columns</p>\n",
       "</div>"
      ],
      "text/plain": [
       "     Frame  Intensity Count   Intensity  Average Intensity  Position  \\\n",
       "1        1                0    0.000000           0.000000       132   \n",
       "3        2                0    0.000000           0.000000       135   \n",
       "5        3                0    0.000000           0.000000       132   \n",
       "7        4                0    0.000000           0.000000       135   \n",
       "9        5                0    0.000000           0.000000       135   \n",
       "..     ...              ...         ...                ...       ...   \n",
       "121     61              582  323.833059         107.944353       153   \n",
       "123     62              729  203.181326         101.590663       153   \n",
       "125     63              622  184.585248          92.292624       153   \n",
       "127     64              605  206.021195         103.010597       153   \n",
       "129     65              520  105.009615         105.009615       147   \n",
       "\n",
       "     Displacement  Stimulated  Edge_L  \n",
       "1               0           0       0  \n",
       "3               3           0       0  \n",
       "5               0           0       0  \n",
       "7               3           0       0  \n",
       "9               3           0       0  \n",
       "..            ...         ...     ...  \n",
       "121            21           1       0  \n",
       "123            21           1       0  \n",
       "125            21           1       0  \n",
       "127            21           1       0  \n",
       "129            15           1       0  \n",
       "\n",
       "[65 rows x 8 columns]"
      ]
     },
     "execution_count": 17,
     "metadata": {},
     "output_type": "execute_result"
    }
   ],
   "source": [
    "stimulation_start = 42\n",
    "data_df = pd.DataFrame(data, columns = [\"Frame\", \"Edge\", \"Intensity Count\",\"Intensity\",\"Average Intensity\",\"Position\"])\n",
    "data_df[\"Displacement\"] = data_df[\"Position\"] - data_df[\"Position\"][0]\n",
    "data_df[\"Stimulated\"] = data_df[\"Frame\"] > stimulation_start\n",
    "dummies = pd.get_dummies(data_df)\n",
    "data_with_dummies_df = pd.concat([data_df, dummies[[\"Edge_L\"]]], axis='columns')\n",
    "cleaned_data = data_with_dummies_df.drop(['Edge'], axis='columns') * 1\n",
    "right_edge_intensities = cleaned_data[cleaned_data[\"Edge_L\"]==0]\n",
    "right_edge_intensities"
   ]
  },
  {
   "cell_type": "markdown",
   "id": "108eadea-0bc7-4c99-9cc8-d0ccbbdcbe18",
   "metadata": {},
   "source": [
    "## Displacement"
   ]
  },
  {
   "cell_type": "code",
   "execution_count": 19,
   "id": "9f5c5dde-4b7b-49a7-acfa-23e035fabcc5",
   "metadata": {},
   "outputs": [
    {
     "data": {
      "image/png": "[encoded data removed]",
      "text/plain": [
       "<Figure size 640x480 with 1 Axes>"
      ]
     },
     "metadata": {},
     "output_type": "display_data"
    }
   ],
   "source": [
    "fig, ax = plt.subplots(1, sharex=False, sharey=False)\n",
    "\n",
    "pre_stimulation = right_edge_intensities[right_edge_intensities[\"Stimulated\"] == 0]\n",
    "post_stimulation = right_edge_intensities[right_edge_intensities[\"Stimulated\"] == 1]\n",
    "\n",
    "X1 = pre_stimulation[\"Frame\"]\n",
    "X2 = post_stimulation[\"Frame\"]\n",
    "Y1 = pre_stimulation[\"Displacement\"]\n",
    "Y2 = post_stimulation[\"Displacement\"]\n",
    "\n",
    "ax.plot(X1, Y1)\n",
    "ax.plot(X2, Y2)\n",
    "ax.set_title(\"Displacement over time\")\n",
    "\n",
    "ax.legend([\"Before stimulation\",\"After stimulation\"],loc='best')\n",
    "plt.savefig(\"movie6_displacement_line_plot.png\")\n",
    "plt.show()"
   ]
  },
  {
   "cell_type": "markdown",
   "id": "e4622dc8",
   "metadata": {},
   "source": [
    "## Plot fluorescent intensity at right edge"
   ]
  },
  {
   "cell_type": "code",
   "execution_count": 23,
   "id": "cbc114db",
   "metadata": {
    "scrolled": true
   },
   "outputs": [
    {
     "data": {
      "image/png": "[encoded data removed]",
      "text/plain": [
       "<Figure size 640x480 with 1 Axes>"
      ]
     },
     "metadata": {},
     "output_type": "display_data"
    }
   ],
   "source": [
    "fig, ax = plt.subplots(1, sharex=False, sharey=False)\n",
    "\n",
    "X1 = pre_stimulation[\"Frame\"]\n",
    "X2 = post_stimulation[\"Frame\"]\n",
    "\n",
    "Y1 = pre_stimulation[\"Intensity\"]\n",
    "Y2 = post_stimulation[\"Intensity\"]\n",
    "\n",
    "ax.plot(X1, Y1)\n",
    "ax.plot(X2, Y2)\n",
    "ax.set_title(\"Total intensity - Before Vrs After stimulation\")\n",
    "\n",
    "ax.legend([\"Before stimulation\",\"After stimulation\"],loc='best')\n",
    "\n",
    "plt.savefig(\"movie6_fluorescence_line_plot.png\")\n",
    "plt.show()"
   ]
  },
  {
   "cell_type": "markdown",
   "id": "43902975-339e-45a3-b8a0-50d87132d4be",
   "metadata": {},
   "source": [
    "## Compare fluorescence before stimulation Vrs After stimulation"
   ]
  },
  {
   "cell_type": "code",
   "execution_count": 26,
   "id": "f006098a-f819-4d18-b8aa-0680927b8d35",
   "metadata": {},
   "outputs": [
    {
     "data": {
      "text/plain": [
       "<Axes: xlabel='Stimulated', ylabel='Intensity'>"
      ]
     },
     "execution_count": 26,
     "metadata": {},
     "output_type": "execute_result"
    },
    {
     "data": {
      "image/png": "[encoded data removed]",
      "text/plain": [
       "<Figure size 640x480 with 1 Axes>"
      ]
     },
     "metadata": {},
     "output_type": "display_data"
    }
   ],
   "source": [
    "sns.set_style(\"whitegrid\")\n",
    "sns.boxplot(x = 'Stimulated', y = 'Intensity', data = right_edge_intensities)"
   ]
  },
  {
   "cell_type": "markdown",
   "id": "d2d34b5e-7511-4bb6-8aa6-d6fb47b81a19",
   "metadata": {},
   "source": [
    "## ANOVA of intensities at leading (right) edge before and after stimulation\n",
    "- Since the leading edge (right side) intensity is the edge of interest in this particular case, lets perform an ANOVA test for both light stimulated and non-light stimulated frames"
   ]
  },
  {
   "cell_type": "code",
   "execution_count": 29,
   "id": "a195b693-7bef-4d91-9793-4abb23400f23",
   "metadata": {},
   "outputs": [
    {
     "data": {
      "text/plain": [
       "F_onewayResult(statistic=263.6236129906347, pvalue=3.405837241576024e-24)"
      ]
     },
     "execution_count": 29,
     "metadata": {},
     "output_type": "execute_result"
    }
   ],
   "source": [
    "import scipy.stats as stats\n",
    "stats.f_oneway(pre_stimulation[\"Intensity\"], post_stimulation[\"Intensity\"])"
   ]
  },
  {
   "cell_type": "markdown",
   "id": "e5cb02bf-1c29-466f-aa83-ff6949f68726",
   "metadata": {},
   "source": [
    "- Fluorescent intensity significantly greater post-stimulation than pre-stimulation"
   ]
  },
  {
   "cell_type": "code",
   "execution_count": null,
   "id": "1afe2350-1013-4b52-a26c-1fb15a244bd4",
   "metadata": {},
   "outputs": [],
   "source": []
  }
 ],
 "metadata": {
  "kernelspec": {
   "display_name": "Python 3 (ipykernel)",
   "language": "python",
   "name": "python3"
  },
  "language_info": {
   "codemirror_mode": {
    "name": "ipython",
    "version": 3
   },
   "file_extension": ".py",
   "mimetype": "text/x-python",
   "name": "python",
   "nbconvert_exporter": "python",
   "pygments_lexer": "ipython3",
   "version": "3.12.4"
  }
 },
 "nbformat": 4,
 "nbformat_minor": 5
}
